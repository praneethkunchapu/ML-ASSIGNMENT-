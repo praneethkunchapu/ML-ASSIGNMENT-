{
 "cells": [
  {
   "cell_type": "code",
   "execution_count": 15,
   "metadata": {
    "colab": {
     "base_uri": "https://localhost:8080/"
    },
    "id": "x-T9JhHRGy-L",
    "outputId": "f1bc0d3d-79c0-41fe-939f-a2c5f2dee298"
   },
   "outputs": [
    {
     "name": "stdout",
     "output_type": "stream",
     "text": [
      "Array 1:\n",
      "[[1 2 3]\n",
      " [4 5 6]]\n",
      "\n",
      "Array 2:\n",
      "[[ 7  8  9]\n",
      " [10 11 12]]\n",
      "\n",
      "Result of element-wise multiplication:\n",
      "[[ 7 16 27]\n",
      " [40 55 72]]\n"
     ]
    }
   ],
   "source": [
    "#1.Write a NumPy program to multiply two given arrays of same size element-by-element.\n",
    "import numpy as np\n",
    "arr1 = np.array([[1, 2, 3],\n",
    "                    [4, 5, 6]])\n",
    "\n",
    "arr2 = np.array([[7, 8, 9],\n",
    "                    [10, 11, 12]])\n",
    "result = arr1 * arr2\n",
    "\n",
    "print(\"Array 1:\")\n",
    "print(arr1)\n",
    "\n",
    "print(\"\\nArray 2:\")\n",
    "print(arr2)\n",
    "\n",
    "print(\"\\nResult of element-wise multiplication:\")\n",
    "print(result)\n"
   ]
  },
  {
   "cell_type": "code",
   "execution_count": 2,
   "metadata": {
    "colab": {
     "base_uri": "https://localhost:8080/"
    },
    "id": "_YH_ZWe0Iy3k",
    "outputId": "e8e021dc-a649-4b92-dd29-91375fd3d748"
   },
   "outputs": [
    {
     "name": "stdout",
     "output_type": "stream",
     "text": [
      "Array with missing data:\n",
      "[ 1.  2. nan  4. nan  6.  7. nan]\n",
      "\n",
      "Indices of missing data:\n",
      "[False False  True False  True False False  True]\n",
      "\n",
      "Missing values:\n",
      "[nan nan nan]\n"
     ]
    }
   ],
   "source": [
    "#2.Write a NumPy program to find the missing data in a given array.\n",
    "import numpy as np\n",
    "arr = np.array([1, 2, np.nan, 4, np.nan, 6, 7, np.nan])\n",
    "missing_indices = np.isnan(arr)\n",
    "missing_values = arr[missing_indices]\n",
    "\n",
    "print(\"Array with missing data:\")\n",
    "print(arr)\n",
    "\n",
    "print(\"\\nIndices of missing data:\")\n",
    "print(missing_indices)\n",
    "\n",
    "print(\"\\nMissing values:\")\n",
    "print(missing_values)\n"
   ]
  },
  {
   "cell_type": "code",
   "execution_count": null,
   "metadata": {
    "colab": {
     "base_uri": "https://localhost:8080/"
    },
    "id": "aNoPjuQNJ5Zr",
    "outputId": "7b818734-58aa-4731-dc9b-588b07c54d21"
   },
   "outputs": [
    {
     "name": "stdout",
     "output_type": "stream",
     "text": [
      "[ True False  True False False]\n"
     ]
    }
   ],
   "source": [
    "#3.Write a NumPy program to test whether each element of a 1-D array is also present in a second array.\n",
    "import numpy as np\n",
    "\n",
    "arr1 = np.array([1, 2, 3, 4, 5])\n",
    "arr2 = np.array([1, 3, 7, 8, 9])\n",
    "\n",
    "result = np.in1d(arr1, arr2)\n",
    "print(result)\n"
   ]
  },
  {
   "cell_type": "code",
   "execution_count": null,
   "metadata": {
    "colab": {
     "base_uri": "https://localhost:8080/"
    },
    "id": "ghJgkI9xKTlU",
    "outputId": "34c38093-6a9b-4339-edb7-dd115f77f85b"
   },
   "outputs": [
    {
     "name": "stdout",
     "output_type": "stream",
     "text": [
      "Array saved to arr_data.txt\n"
     ]
    }
   ],
   "source": [
    "#4.Write a NumPy program to save a NumPy array to a text file.\n",
    "import numpy as np\n",
    "array = np.array([[1, 2, 3],\n",
    "                  [4, 5, 6],\n",
    "                  [7, 8, 9]])\n",
    "\n",
    "filename = 'arr_data.txt'\n",
    "np.savetxt(filename, array, fmt='%d')\n",
    "\n",
    "print(\"Array saved to\", filename)\n"
   ]
  },
  {
   "cell_type": "code",
   "execution_count": null,
   "metadata": {
    "colab": {
     "base_uri": "https://localhost:8080/"
    },
    "id": "C678xMBiLrXQ",
    "outputId": "9bb1375a-3c70-434e-b8bb-a0d8e5a821bc"
   },
   "outputs": [
    {
     "name": "stdout",
     "output_type": "stream",
     "text": [
      "1-D array of 30 evenly spaced elements between 2.5 and 6.5, inclusive:\n",
      "[2.5        2.63793103 2.77586207 2.9137931  3.05172414 3.18965517\n",
      " 3.32758621 3.46551724 3.60344828 3.74137931 3.87931034 4.01724138\n",
      " 4.15517241 4.29310345 4.43103448 4.56896552 4.70689655 4.84482759\n",
      " 4.98275862 5.12068966 5.25862069 5.39655172 5.53448276 5.67241379\n",
      " 5.81034483 5.94827586 6.0862069  6.22413793 6.36206897 6.5       ]\n"
     ]
    }
   ],
   "source": [
    "#5.Write a NumPy program to Create a 1-D array of 30 evenly spaced elements between 2.5. and 6.5, inclusive.\n",
    "import numpy as np\n",
    "array = np.linspace(2.5, 6.5, 30)\n",
    "\n",
    "print(\"1-D array of 30 evenly spaced elements between 2.5 and 6.5, inclusive:\")\n",
    "print(array)\n"
   ]
  },
  {
   "cell_type": "code",
   "execution_count": null,
   "metadata": {
    "colab": {
     "base_uri": "https://localhost:8080/"
    },
    "id": "b3xoX_oCYNwO",
    "outputId": "6a449e15-2231-4011-f2d3-b3482d61b8c7"
   },
   "outputs": [
    {
     "name": "stdout",
     "output_type": "stream",
     "text": [
      "Series of lists:\n",
      "0    [1, 2, 3]\n",
      "1       [4, 5]\n",
      "2    [6, 7, 8]\n",
      "dtype: object\n",
      "\n",
      "One Series:\n",
      "0    1.0\n",
      "1    2.0\n",
      "2    3.0\n",
      "3    4.0\n",
      "4    5.0\n",
      "5    6.0\n",
      "6    7.0\n",
      "7    8.0\n",
      "dtype: float64\n"
     ]
    }
   ],
   "source": [
    "#Introduction to Pandas (Series and Dataframes)\n",
    "#1.Write a Pandas program to convert Series of lists to one Series.\n",
    "import pandas as pd\n",
    "series_of_lists = pd.Series([[1, 2, 3], [4, 5], [6, 7, 8]])\n",
    "one_series = series_of_lists.apply(pd.Series).stack().reset_index(drop=True)\n",
    "print(\"Series of lists:\")\n",
    "print(series_of_lists)\n",
    "print(\"\\nOne Series:\")\n",
    "print(one_series)\n"
   ]
  },
  {
   "cell_type": "code",
   "execution_count": null,
   "metadata": {
    "colab": {
     "base_uri": "https://localhost:8080/"
    },
    "id": "pNobiMcMYkkJ",
    "outputId": "40dc0df6-b7b8-4fb7-8df6-733c15cd28c1"
   },
   "outputs": [
    {
     "name": "stdout",
     "output_type": "stream",
     "text": [
      "Original Series:\n",
      "a    10\n",
      "b    20\n",
      "c    30\n",
      "d    40\n",
      "e    50\n",
      "dtype: int64\n",
      "\n",
      "Subset based on condition (values > 25):\n",
      "c    30\n",
      "d    40\n",
      "e    50\n",
      "dtype: int64\n"
     ]
    }
   ],
   "source": [
    "#2.Write a Pandas program to create a subset of a given series based on value and condition.\n",
    "import pandas as pd\n",
    "data = {'A': [10, 20, 30, 40, 50],\n",
    "        'B': [5, 15, 25, 35, 45]}\n",
    "series = pd.Series(data['A'], index=['a', 'b', 'c', 'd', 'e'])\n",
    "condition = series > 25\n",
    "subset = series[condition]\n",
    "\n",
    "print(\"Original Series:\")\n",
    "print(series)\n",
    "\n",
    "print(\"\\nSubset based on condition (values > 25):\")\n",
    "print(subset)\n"
   ]
  },
  {
   "cell_type": "code",
   "execution_count": null,
   "metadata": {
    "colab": {
     "base_uri": "https://localhost:8080/"
    },
    "id": "k7R6KOM-Y0my",
    "outputId": "16167e36-3f8a-4fb5-f5ec-81cbdf0de1c7"
   },
   "outputs": [
    {
     "name": "stdout",
     "output_type": "stream",
     "text": [
      "Original Series:\n",
      "0        A\n",
      "1    Other\n",
      "2        A\n",
      "3    Other\n",
      "4        A\n",
      "5    Other\n",
      "6        A\n",
      "7    Other\n",
      "8    Other\n",
      "dtype: object\n"
     ]
    }
   ],
   "source": [
    "#3. Write a Pandas program to display most frequent value in a given series and replace everything else as other in the series.\n",
    "import pandas as pd\n",
    "\n",
    "# Create a sample Series\n",
    "series = pd.Series(['A', 'B', 'A', 'C', 'A', 'B', 'A', 'B', 'B'])\n",
    "\n",
    "# Find the most frequent value\n",
    "most_frequent_value = series.mode()[0]\n",
    "\n",
    "# Replace everything else as 'Other'\n",
    "series[series != most_frequent_value] = 'Other'\n",
    "\n",
    "print(\"Original Series:\")\n",
    "print(series)\n"
   ]
  },
  {
   "cell_type": "code",
   "execution_count": null,
   "metadata": {
    "colab": {
     "base_uri": "https://localhost:8080/"
    },
    "id": "hfdf5kBGZX1m",
    "outputId": "a21f1afd-7dfc-4f35-b699-09a95fc1e8f1"
   },
   "outputs": [
    {
     "name": "stdout",
     "output_type": "stream",
     "text": [
      "Original Series:\n",
      "0    10\n",
      "1    15\n",
      "2    20\n",
      "3    25\n",
      "4    30\n",
      "5    35\n",
      "6    40\n",
      "7    45\n",
      "8    50\n",
      "dtype: int64\n",
      "\n",
      "Positions of numbers that are multiples of 5:\n",
      "Int64Index([0, 1, 2, 3, 4, 5, 6, 7, 8], dtype='int64')\n"
     ]
    }
   ],
   "source": [
    "#4.Write a Pandas program to find the positions of numbers that are multiples of 5 of a given series.\n",
    "import pandas as pd\n",
    "series = pd.Series([10, 15, 20, 25, 30, 35, 40, 45, 50])\n",
    "positions = series.index[series % 5 == 0]\n",
    "\n",
    "print(\"Original Series:\")\n",
    "print(series)\n",
    "\n",
    "print(\"\\nPositions of numbers that are multiples of 5:\")\n",
    "print(positions)"
   ]
  },
  {
   "cell_type": "code",
   "execution_count": 3,
   "metadata": {
    "colab": {
     "base_uri": "https://localhost:8080/"
    },
    "id": "umRB6weUZ7wi",
    "outputId": "af27262d-d7da-41c7-e73b-3ce44f1ddb3a"
   },
   "outputs": [
    {
     "name": "stdout",
     "output_type": "stream",
     "text": [
      "     Word  Length\n",
      "0   apple       5\n",
      "1  banana       6\n",
      "2  orange       6\n",
      "3   grape       5\n",
      "4    kiwi       4\n"
     ]
    }
   ],
   "source": [
    "#5.Write a Pandas program to calculate the number of characters in each word in a given series.\n",
    "import pandas as pd\n",
    "words_series = pd.Series(['apple', 'banana', 'orange', 'grape', 'kiwi'])\n",
    "\n",
    "word_lengths = words_series.str.len()\n",
    "\n",
    "word_length_df = pd.DataFrame({'Word': words_series, 'Length': word_lengths})\n",
    "\n",
    "print(word_length_df)\n"
   ]
  },
  {
   "cell_type": "code",
   "execution_count": 17,
   "metadata": {
    "colab": {
     "base_uri": "https://localhost:8080/"
    },
    "id": "FxiWAsLCaI7w",
    "outputId": "7de8fb46-9cef-44cb-ab12-5e5d72d03a01"
   },
   "outputs": [
    {
     "name": "stdout",
     "output_type": "stream",
     "text": [
      "DatetimeIndex(['2023-01-15', '2023-02-15', '2023-03-15'], dtype='datetime64[ns]', freq=None)\n"
     ]
    }
   ],
   "source": [
    "#6.Write a Pandas program to convert year-month string to dates adding a specified day of the month.\n",
    "import pandas as pd\n",
    "year_month_strings = ['2023-01', '2023-02', '2023-03']\n",
    "\n",
    "specified_day = 15\n",
    "\n",
    "dates_with_specified_day = pd.to_datetime([year_month + '-' + str(specified_day) for year_month in year_month_strings])\n",
    "print(dates_with_specified_day)\n",
    "\n"
   ]
  },
  {
   "cell_type": "code",
   "execution_count": 4,
   "metadata": {
    "colab": {
     "base_uri": "https://localhost:8080/"
    },
    "id": "31QUTFQOiHLA",
    "outputId": "61133acc-7692-40e8-a94b-af8d0301a1fa"
   },
   "outputs": [
    {
     "name": "stdout",
     "output_type": "stream",
     "text": [
      "            Name  Age         City\n",
      "Person1    Alice   25     New York\n",
      "Person2      Bob   30  Los Angeles\n",
      "Person3  Charlie   35      Chicago\n",
      "Person4    David   40      Houston\n"
     ]
    }
   ],
   "source": [
    "#7.Write a Pandas program to create and display a DataFrame from a specified dictionary data which has the index labels.\n",
    "import pandas as pd\n",
    "\n",
    "data = {\n",
    "    'Name': ['Alice', 'Bob', 'Charlie', 'David'],\n",
    "    'Age': [25, 30, 35, 40],\n",
    "    'City': ['New York', 'Los Angeles', 'Chicago', 'Houston']\n",
    "}\n",
    "\n",
    "df = pd.DataFrame(data, index=['Person1', 'Person2', 'Person3', 'Person4'])\n",
    "\n",
    "\n",
    "print(df)\n"
   ]
  },
  {
   "cell_type": "code",
   "execution_count": 6,
   "metadata": {
    "colab": {
     "base_uri": "https://localhost:8080/"
    },
    "id": "CsIeqkx5j6BW",
    "outputId": "2809d1cb-425c-4edd-e1f0-86aeffe022be"
   },
   "outputs": [
    {
     "name": "stdout",
     "output_type": "stream",
     "text": [
      "      Name  Attempts\n",
      "0    Alice         3\n",
      "2  Charlie         4\n"
     ]
    }
   ],
   "source": [
    "#8.Write a Pandas program to select the rows where the number of attempts in the examination is greater than 2.\n",
    "import pandas as pd\n",
    "\n",
    "data = {\n",
    "    'Name': ['Alice', 'Bob', 'Charlie', 'David'],\n",
    "    'Attempts': [3, 1, 4, 2]\n",
    "}\n",
    "\n",
    "df = pd.DataFrame(data)\n",
    "\n",
    "result = df[df['Attempts'] > 2]\n",
    "\n",
    "print(result)\n"
   ]
  },
  {
   "cell_type": "code",
   "execution_count": 8,
   "metadata": {
    "colab": {
     "base_uri": "https://localhost:8080/"
    },
    "id": "W8ilfKYUkLTu",
    "outputId": "e618d5d9-4be8-4517-cb4d-f7f88eb60a6d"
   },
   "outputs": [
    {
     "name": "stdout",
     "output_type": "stream",
     "text": [
      "      Name  Age\n",
      "0    Alice   25\n",
      "1      Bob   30\n",
      "2  Charlie   35\n",
      "3    David   40\n",
      "4    Emily   27\n",
      "      Name  Age\n",
      "0    Alice   25\n",
      "1      Bob   30\n",
      "2  Charlie   35\n",
      "3    David   40\n"
     ]
    }
   ],
   "source": [
    "#9.Write a Pandas program to append a new row k to data frame with given values for each column. Now delete the new row and return the original DataFrame.\n",
    "import pandas as pd\n",
    "\n",
    "data = {\n",
    "    'Name': ['Alice', 'Bob', 'Charlie', 'David'],\n",
    "    'Age': [25, 30, 35, 40]\n",
    "}\n",
    "df = pd.DataFrame(data)\n",
    "\n",
    "new_row = {'Name': 'Emily', 'Age': 27}\n",
    "\n",
    "df = pd.concat([df, pd.DataFrame([new_row])], ignore_index=True)\n",
    "\n",
    "print(df)\n",
    "\n",
    "df = df.drop(index=len(df) - 1)\n",
    "\n",
    "print(df)\n"
   ]
  },
  {
   "cell_type": "code",
   "execution_count": 19,
   "metadata": {
    "colab": {
     "base_uri": "https://localhost:8080/"
    },
    "id": "I8m0gCrLk_1a",
    "outputId": "08e281d5-11f9-45be-e697-9f916fdb4149"
   },
   "outputs": [
    {
     "name": "stdout",
     "output_type": "stream",
     "text": [
      "      Name  Attempts  Score\n",
      "0    Alice         1     80\n",
      "1      Bob         3     65\n",
      "2  Charlie         2     90\n",
      "3    David         4     75\n",
      "      Name  Attempts  Score\n",
      "3    David         4     75\n",
      "2  Charlie         2     90\n",
      "1      Bob         3     65\n",
      "0    Alice         1     80\n"
     ]
    }
   ],
   "source": [
    "#10.Write a Pandas program to sort the DataFrame first by name in descending order,then by score in ascending order.\n",
    "import pandas as pd\n",
    "\n",
    "data = {\n",
    "    'Name': ['Alice', 'Bob', 'Charlie', 'David'],\n",
    "    'Score': [80, 75, 90, 85]\n",
    "}\n",
    "df = pd.DataFrame(data)\n",
    "df_sorted = df.sort_values(by=['Name', 'Score'], ascending=[False, True])\n",
    "\n",
    "print(df_sorted)"
   ]
  },
  {
   "cell_type": "code",
   "execution_count": 10,
   "metadata": {
    "colab": {
     "base_uri": "https://localhost:8080/"
    },
    "id": "pe9Y_h7IlcjB",
    "outputId": "e80279f1-1a92-46f1-cb7e-71154568be73"
   },
   "outputs": [
    {
     "name": "stdout",
     "output_type": "stream",
     "text": [
      "      Name  Qualify\n",
      "0    Alice     True\n",
      "1      Bob    False\n",
      "2  Charlie     True\n",
      "3    David    False\n"
     ]
    }
   ],
   "source": [
    "#11.Write a Pandas program to replace the qualify column contains the values yes and no with True and False.\n",
    "import pandas as pd\n",
    "\n",
    "data = {\n",
    "    'Name': ['Alice', 'Bob', 'Charlie', 'David'],\n",
    "    'Qualify': ['yes', 'no', 'yes', 'no']\n",
    "}\n",
    "df = pd.DataFrame(data)\n",
    "\n",
    "df['Qualify'] = df['Qualify'].replace({'yes': True, 'no': False})\n",
    "\n",
    "print(df)\n"
   ]
  },
  {
   "cell_type": "code",
   "execution_count": 14,
   "metadata": {
    "colab": {
     "base_uri": "https://localhost:8080/"
    },
    "id": "TBcU3xEFl34K",
    "outputId": "3f45c9ac-c278-4b10-cc89-3326f674a8b3"
   },
   "outputs": [
    {
     "name": "stdout",
     "output_type": "stream",
     "text": [
      "     A  B\n",
      "0  1.0  5\n",
      "1  2.0  6\n",
      "2  inf  7\n",
      "3  4.0  8\n",
      "     A  B\n",
      "0  1.0  5\n",
      "1  2.0  6\n",
      "3  4.0  8\n"
     ]
    }
   ],
   "source": [
    "#12.Write a Pandas program to remove infinite values from a given DataFrame.\n",
    "import pandas as pd\n",
    "import numpy as np\n",
    "data = {\n",
    "    'A': [1, 2, np.inf, 4],\n",
    "    'B': [5, 6, 7, 8]\n",
    "}\n",
    "\n",
    "df = pd.DataFrame(data)\n",
    "print(df)\n",
    "df.replace([np.inf, -np.inf], np.nan, inplace=True)\n",
    "df.dropna(inplace=True)\n",
    "print(df)"
   ]
  }
 ],
 "metadata": {
  "colab": {
   "provenance": []
  },
  "kernelspec": {
   "display_name": "Python 3 (ipykernel)",
   "language": "python",
   "name": "python3"
  },
  "language_info": {
   "codemirror_mode": {
    "name": "ipython",
    "version": 3
   },
   "file_extension": ".py",
   "mimetype": "text/x-python",
   "name": "python",
   "nbconvert_exporter": "python",
   "pygments_lexer": "ipython3",
   "version": "3.10.11"
  }
 },
 "nbformat": 4,
 "nbformat_minor": 1
}
